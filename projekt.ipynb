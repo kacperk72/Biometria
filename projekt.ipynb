{
 "cells": [
  {
   "cell_type": "code",
   "execution_count": 16,
   "metadata": {},
   "outputs": [
    {
     "name": "stdout",
     "output_type": "stream",
     "text": [
      "Podobieństwo: 100.0%\n"
     ]
    }
   ],
   "source": [
    "import cv2\n",
    "import numpy as np\n",
    "\n",
    "# Wczytaj obrazy\n",
    "img1 = cv2.imread('podpis1.png',0)  # Obraz oryginalny\n",
    "img2 = cv2.imread('podpis3.png',0)  # Obraz do porównania\n",
    "\n",
    "# Inicjalizuj ORB\n",
    "orb = cv2.ORB_create()\n",
    "\n",
    "# Znajdź punkty kluczowe i deskryptory za pomocą ORB\n",
    "kp1, des1 = orb.detectAndCompute(img1, None)\n",
    "kp2, des2 = orb.detectAndCompute(img2, None)\n",
    "\n",
    "# Utwórz BFMatcher\n",
    "bf = cv2.BFMatcher(cv2.NORM_HAMMING, crossCheck=True)\n",
    "\n",
    "# Dopasuj deskryptory\n",
    "matches = bf.match(des1,des2)\n",
    "\n",
    "# Wybierz tylko \"dobre\" dopasowania\n",
    "good_matches = []\n",
    "for m in matches:\n",
    "    if m.distance < 75:  # Możesz dostosować ten próg\n",
    "        good_matches.append(m)\n",
    "\n",
    "# Oblicz miarę podobieństwa\n",
    "similarity = len(good_matches) / len(matches) * 100\n",
    "print(f'Podobieństwo: {similarity}%')\n",
    "\n",
    "# Narysuj dopasowania\n",
    "img3 = cv2.drawMatches(img1,kp1,img2,kp2,good_matches,None,flags=2)\n",
    "\n",
    "cv2.imshow('Porównanie podpisów',img3)\n",
    "cv2.waitKey(0)\n",
    "cv2.destroyAllWindows()\n"
   ]
  }
 ],
 "metadata": {
  "kernelspec": {
   "display_name": "Python 3",
   "language": "python",
   "name": "python3"
  },
  "language_info": {
   "codemirror_mode": {
    "name": "ipython",
    "version": 3
   },
   "file_extension": ".py",
   "mimetype": "text/x-python",
   "name": "python",
   "nbconvert_exporter": "python",
   "pygments_lexer": "ipython3",
   "version": "3.10.11"
  },
  "orig_nbformat": 4
 },
 "nbformat": 4,
 "nbformat_minor": 2
}
